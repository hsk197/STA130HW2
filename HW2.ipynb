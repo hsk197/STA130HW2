{
 "cells": [
  {
   "cell_type": "code",
   "execution_count": 4,
   "id": "42c8cffa",
   "metadata": {},
   "outputs": [
    {
     "data": {
      "text/markdown": [
       "[Chatlink](https://chatgpt.com/share/66ecd8f6-8cd4-800e-87b5-2c6514c91747)"
      ],
      "text/plain": [
       "<IPython.core.display.Markdown object>"
      ]
     },
     "execution_count": 4,
     "metadata": {},
     "output_type": "execute_result"
    }
   ],
   "source": [
    "#STA130 HW2\n",
    "#Heesu Kim\n",
    "#1002654978\n",
    "#Due Sept 19, 2024\n",
    "\n",
    "#1-3\n",
    "#Chatlogs\n",
    "from IPython.display import Markdown\n",
    "\n",
    "Markdown(\"[Chatlink](https://chatgpt.com/share/66ecd8f6-8cd4-800e-87b5-2c6514c91747)\")\n",
    "\n",
    "#Summary\n",
    "#We discussed the Monty Hall problem and analyzed two versions of a Python simulation code to model the game.\n",
    "#The original code, provided by Prof. Schwartz, simulates a contestant always switching doors after \n",
    "#Monty reveals a goat. I explained how each part of the code works, including door selection, \n",
    "#Monty revealing a losing door, and the contestant switching doors. We then looked at a streamlined version\n",
    "#of the code that simplifies the logic using list comprehensions, making it easier to understand and follow.\n",
    "#Finally, we covered the logic behind the win condition and how the code tracks the number of times\n",
    "#the contestant wins by switching."
   ]
  },
  {
   "cell_type": "code",
   "execution_count": 10,
   "id": "fdddff0e",
   "metadata": {},
   "outputs": [
    {
     "data": {
      "text/plain": [
       "0.66721"
      ]
     },
     "execution_count": 10,
     "metadata": {},
     "output_type": "execute_result"
    }
   ],
   "source": [
    "import numpy as np\n",
    "\n",
    "# Constants\n",
    "all_doors = [1, 2, 3] #List of numbers representing door 1, 2, 3\n",
    "reps = 100000 #number of repetition\n",
    "wins = 0 #constant initial stage of games won\n",
    "\n",
    "for _ in range(reps):\n",
    "    # Randomly select winning door and contestant's initial choice\n",
    "    winning_door = np.random.choice(all_doors) #Assign winning door randomly\n",
    "    contestant_choice = np.random.choice(all_doors) #Assigning contestant's initial choice randomly\n",
    "    \n",
    "    # Monty reveals a goat door (one that isn't the winning door or contestant's choice)\n",
    "    remaining_doors = [door for door in all_doors if door != winning_door and door != contestant_choice]\n",
    "    #it filters out the remaining door, making sure exclude the winning door and the contestant's initial choice\n",
    "    monty_reveals = np.random.choice(remaining_doors)\n",
    "    #Monty reveals a non-winning door that is not a winning and contestant's choice.\n",
    "    \n",
    "    # Contestant switches to the other unopened door\n",
    "    remaining_doors = [door for door in all_doors if door != contestant_choice and door != monty_reveals]\n",
    "    #it filters out the remaining door that is not a contestant's choice and that is not a door that monty revealed\n",
    "    contestant_choice = remaining_doors[0]  # This is the switched door\n",
    "\n",
    "    # Check if the contestant wins after switching\n",
    "    if contestant_choice == winning_door:\n",
    "        wins += 1\n",
    "    # If the statement is true (winning), then it adds 1\n",
    "\n",
    "# Calculate win rate\n",
    "win_rate = wins / reps\n",
    "win_rate"
   ]
  },
  {
   "cell_type": "code",
   "execution_count": 6,
   "id": "e9b036fa",
   "metadata": {},
   "outputs": [
    {
     "data": {
      "text/markdown": [
       "[Chatlink](https://chatgpt.com/share/66ecdadf-9308-800e-8338-d50051fd796e)"
      ],
      "text/plain": [
       "<IPython.core.display.Markdown object>"
      ]
     },
     "execution_count": 6,
     "metadata": {},
     "output_type": "execute_result"
    }
   ],
   "source": [
    "#4-5\n",
    "#Chatlog\n",
    "from IPython.display import Markdown\n",
    "\n",
    "Markdown(\"[Chatlink](https://chatgpt.com/share/66ecdadf-9308-800e-8338-d50051fd796e)\")\n",
    "\n",
    "#SUMMARY\n",
    "#In this conversation, we extended a basic Markovian chatbot by introducing two new features:\n",
    "#character-specific Markov chains and bigrams. First, the character-specific Markov chain\n",
    "#generates text at the character level, predicting the next character based on previous ones,\n",
    "#which allows for more flexible and creative text generation. Second, the bigram Markov chain\n",
    "#uses pairs of consecutive words to predict the next word, providing more context and producing\n",
    "#more coherent results compared to a simple word-based model. Both extensions enhance the\n",
    "#chatbot’s ability to generate text by improving the underlying transition models."
   ]
  },
  {
   "cell_type": "code",
   "execution_count": 8,
   "id": "6fccb1c4",
   "metadata": {},
   "outputs": [
    {
     "data": {
      "text/markdown": [
       "[Chatlink](https://chatgpt.com/share/66ecdd36-54e0-800e-9519-4f66a470cde3)"
      ],
      "text/plain": [
       "<IPython.core.display.Markdown object>"
      ]
     },
     "execution_count": 8,
     "metadata": {},
     "output_type": "execute_result"
    }
   ],
   "source": [
    "#Chatlog\n",
    "Markdown(\"[Chatlink](https://chatgpt.com/share/66ecdd36-54e0-800e-9519-4f66a470cde3)\")\n",
    "\n",
    "#SUMMARY\n",
    "#In this conversation, we discussed a code extension for a Markovian chatbot that uses bigrams\n",
    "#(pairs of consecutive words) instead of single words to model language. I explained how the original\n",
    "#code counts bigrams and tracks the word following each bigram. We then simplified the code using \n",
    "#Python's zip function to iterate over consecutive word triplets and cleanly create and count bigrams.\n",
    "#Finally, I provided an in-depth explanation of the first function, showing how bigrams are created and \n",
    "#counted using defaultdict to manage word occurrences in the chatbot’s training data."
   ]
  },
  {
   "cell_type": "code",
   "execution_count": 7,
   "id": "e9cbc1fc",
   "metadata": {},
   "outputs": [
    {
     "data": {
      "text/markdown": [
       "[Chatlink](https://chatgpt.com/share/66ecde92-6648-800e-888f-09a937ecc408)"
      ],
      "text/plain": [
       "<IPython.core.display.Markdown object>"
      ]
     },
     "execution_count": 7,
     "metadata": {},
     "output_type": "execute_result"
    }
   ],
   "source": [
    "#Chatlog\n",
    "Markdown(\"[Chatlink](https://chatgpt.com/share/66ecde92-6648-800e-888f-09a937ecc408)\")\n",
    "\n",
    "#SUMMARY\n",
    "#In this conversation, we discussed a piece of code that builds a character-specific Markov model\n",
    "#for a chatbot using text data. The code tracks word pairs and their next word for each character in a dataset,\n",
    "#using dictionaries word_used2C and next_word2C to store and predict transitions. \n",
    "#We explained why if character not in next_word2C checks for initializing nested dictionaries\n",
    "#and why the loop iterates with the range [:-2], ensuring that three consecutive words are processed\n",
    "#without causing an out-of-bounds error. The focus was on creating character-specific\n",
    "#language models for generating chatbot responses."
   ]
  },
  {
   "cell_type": "code",
   "execution_count": null,
   "id": "7a510575",
   "metadata": {},
   "outputs": [],
   "source": [
    "#6\n",
    "#1 Chatbot actually saved a lot of time searching for each function and how would they exactly applied.\n",
    "\n",
    "#2 It was frustrating at the first when I tried to solve it without the chatbot, because sometimes I did not\n",
    "#know where to start, or I knew the code but I didn't know how exactly they are working. Chatbot can suggest one\n",
    "#a place to start and save one's time.\n",
    "\n",
    "#3 As I mentioned in question 6-1, chatbot actually saved time, and did explain the details of fragments \n",
    "#in the code. Moreover, it could fix errors that has been encountered.\n",
    "#Overall, I believe it is really effective method to use chatbot.\n",
    "\n",
    "#7 \n",
    "#I noticed the chatbot improves/evolves, as I added more and more information. It seemed like it had minor errors,\n",
    "#but once I corrected it few times, it wouldn't make the same mistake again. I would say its getting trained.\n",
    "\n",
    "#8\n",
    "\n",
    "#1)\n",
    "#Learning and Adaptability : As technology evolves rapidly, data scientist should learn new method, techniques,\n",
    "#and languages.\n",
    "#Communication : To be able to demonstrate/explain technical information to non-technical individuals\n",
    "#Coding : Computer language skills are required data manipulation, building models, and automating process\n",
    "#Statistics and Data Analysis : A strong grasp of statistical concepts enables data-driven decision-making \n",
    "#and accurate interpretation of data.\n",
    "\n",
    "#2)\n",
    "#Chatbot does think that one can be a statistician without the knowlege about coding. However, at the same time,\n",
    "#Chatbot does believe there will be certain limit. While there are some roles that doesn't involve coding in data\n",
    "#science industry like data consultant or business analysts, statisticians and data scientists typically \n",
    "#work heavily with coding languages\n",
    "\n",
    "#3)\n",
    "#You asked if it's possible to become a statistician or data scientist without coding or doing data analysis, \n",
    "#and the ChatBot explained that while it may be possible to work in related roles like a data consultant,\n",
    "#business analyst, or manager, coding and data analysis are central to most statistician and data scientist roles.\n",
    "#It then shifted the conversation to career exploration, suggesting roles that align with your strengths\n",
    "#in communication and business strategy, such as Business Intelligence Analyst, Product Manager, Data Consultant,\n",
    "#or Operations Manager with a data focus. It recommended focusing on key skills like communication,\n",
    "#data interpretation, business acumen, and project management to succeed in these areas.\n",
    "\n",
    "#4)\n",
    "#Since coding is mandatory, it is not a good idea to rely 100% on Chatbot. However, it could be used as an\n",
    "#effective tool to save one's time and energy, which will lead to better efficiency and productivity.\n",
    "\n",
    "#5)\n",
    "#I noticed that there is a certain limit of Chatbot's understanding of human language. More complicated it gets,\n",
    "#there has been higher chance to provide a mistake or an error. Moreover, when Chatbot provided one a context and\n",
    "#one can't understand what the Chatbot is explaining, there is no point of using chatbots, since you can't rely\n",
    "#on uncertainity.\n",
    "\n",
    "#9\n",
    "#Somewhat"
   ]
  }
 ],
 "metadata": {
  "kernelspec": {
   "display_name": "Python 3 (ipykernel)",
   "language": "python",
   "name": "python3"
  },
  "language_info": {
   "codemirror_mode": {
    "name": "ipython",
    "version": 3
   },
   "file_extension": ".py",
   "mimetype": "text/x-python",
   "name": "python",
   "nbconvert_exporter": "python",
   "pygments_lexer": "ipython3",
   "version": "3.11.6"
  }
 },
 "nbformat": 4,
 "nbformat_minor": 5
}
